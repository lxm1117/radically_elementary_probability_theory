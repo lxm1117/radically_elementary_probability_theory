{
 "cells": [
  {
   "cell_type": "markdown",
   "metadata": {},
   "source": [
    "conjugate exponent:\n",
    "\n",
    "$p'=\\frac{p}{p-1}$ so that\n",
    "$\\frac{1}{p}+\\frac{1}{p'}=1$\n",
    "\n",
    "Holder's:\n",
    "    $\\mid E_{xy}\\mid \\le\\lVert{x}\\rVert_p \\lVert{y}\\rVert_{p'}$"
   ]
  },
  {
   "cell_type": "markdown",
   "metadata": {},
   "source": [
    "Minkowski's:\n",
    "   \n",
    "$\\lVert x+z\\rVert_p\\le\\lVert x\\rVert_p + \\lVert z\\rVert_p$"
   ]
  },
  {
   "cell_type": "markdown",
   "metadata": {},
   "source": [
    "convex function:\n",
    "\n",
    "$f(\\sum x(\\omega)pr(\\omega))\\le\\sum(f(x\\omega))pr(\\omega)$\n",
    "\n",
    "that is,  $f(E_x)\\le E(f(x))$\n",
    "a.k.a. Jesen's inequality\n"
   ]
  },
  {
   "cell_type": "markdown",
   "metadata": {},
   "source": [
    "Chebychev's inequality:\n",
    "\n",
    "Let f be a positive function, for $\\lambda \\gt 0$\n",
    "\n",
    "$E(f(x))=\\sum f(x(\\omega))pr(\\omega) \\ge \\\\\n",
    "         \\sum_{\\omega \\in \\{f(x)\\ge \\lambda\\}} f(x(\\omega))pr(\\omega) \\ge \\\\\n",
    "         \\lambda Pr\\{f(x)\\ge \\lambda\\}$\n",
    "         \n",
    "<br>\n",
    "thus, $Pr\\{f(x)\\ge \\lambda\\} \\le \\frac{E(f(x))}{\\lambda}$\n",
    "<br>\n",
    "further, $Pr\\{f(x)\\ge \\lambda\\} \\le \\frac{E(f(x))^p}{\\lambda^p}$\n"
   ]
  },
  {
   "cell_type": "code",
   "execution_count": null,
   "metadata": {
    "collapsed": true
   },
   "outputs": [],
   "source": []
  }
 ],
 "metadata": {
  "kernelspec": {
   "display_name": "Python 2",
   "language": "python",
   "name": "python2"
  },
  "language_info": {
   "codemirror_mode": {
    "name": "ipython",
    "version": 2
   },
   "file_extension": ".py",
   "mimetype": "text/x-python",
   "name": "python",
   "nbconvert_exporter": "python",
   "pygments_lexer": "ipython2",
   "version": "2.7.13"
  }
 },
 "nbformat": 4,
 "nbformat_minor": 2
}
